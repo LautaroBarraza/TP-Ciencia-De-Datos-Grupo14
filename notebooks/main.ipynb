{
 "cells": [
  {
   "cell_type": "code",
   "execution_count": null,
   "id": "e2644c2e",
   "metadata": {},
   "outputs": [],
   "source": [
    "from wget import download\n",
    "from os import path"
   ]
  }
 ],
 "metadata": {
  "kernelspec": {
   "display_name": ".venv (3.12.3)",
   "language": "python",
   "name": "python3"
  },
  "language_info": {
   "name": "python",
   "version": "3.12.3"
  }
 },
 "nbformat": 4,
 "nbformat_minor": 5
}
